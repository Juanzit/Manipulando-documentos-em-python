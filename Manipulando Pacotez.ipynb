{
 "cells": [
  {
   "cell_type": "code",
   "execution_count": 2,
   "id": "2cfa9c7b",
   "metadata": {},
   "outputs": [],
   "source": [
    "import pandas as pd\n",
    "#pip install tabula -py\n",
    "#precisa ter o java instalado\n",
    "import tabula\n",
    "#pip install python-docx\n",
    "import docx\n",
    "from docx import Document\n",
    "from docx.shared import Inches"
   ]
  },
  {
   "cell_type": "code",
   "execution_count": 11,
   "id": "b56b855b",
   "metadata": {},
   "outputs": [
    {
     "name": "stdout",
     "output_type": "stream",
     "text": [
      "1\n"
     ]
    },
    {
     "data": {
      "text/plain": [
       "[          Produção Emissão de dióxido de carbono\n",
       " 0   (em toneladas)  (em partes por milhão - ppm)\n",
       " 1              1,1                          2,14\n",
       " 2              1,2                          2,30\n",
       " 3              1,3                          2,46\n",
       " 4              1,4                          2,64\n",
       " 5              1,5                          2,83\n",
       " 6              1,6                          3,03\n",
       " 7              1,7                          3,25\n",
       " 8              1,8                          3,48\n",
       " 9              1,9                          3,73\n",
       " 10             2,0                          4,00]"
      ]
     },
     "metadata": {},
     "output_type": "display_data"
    },
    {
     "data": {
      "text/html": [
       "<div>\n",
       "<style scoped>\n",
       "    .dataframe tbody tr th:only-of-type {\n",
       "        vertical-align: middle;\n",
       "    }\n",
       "\n",
       "    .dataframe tbody tr th {\n",
       "        vertical-align: top;\n",
       "    }\n",
       "\n",
       "    .dataframe thead th {\n",
       "        text-align: right;\n",
       "    }\n",
       "</style>\n",
       "<table border=\"1\" class=\"dataframe\">\n",
       "  <thead>\n",
       "    <tr style=\"text-align: right;\">\n",
       "      <th></th>\n",
       "      <th>Produção</th>\n",
       "      <th>Emissão de dióxido de carbono</th>\n",
       "    </tr>\n",
       "  </thead>\n",
       "  <tbody>\n",
       "    <tr>\n",
       "      <th>0</th>\n",
       "      <td>(em toneladas)</td>\n",
       "      <td>(em partes por milhão - ppm)</td>\n",
       "    </tr>\n",
       "    <tr>\n",
       "      <th>1</th>\n",
       "      <td>1,1</td>\n",
       "      <td>2,14</td>\n",
       "    </tr>\n",
       "    <tr>\n",
       "      <th>2</th>\n",
       "      <td>1,2</td>\n",
       "      <td>2,30</td>\n",
       "    </tr>\n",
       "    <tr>\n",
       "      <th>3</th>\n",
       "      <td>1,3</td>\n",
       "      <td>2,46</td>\n",
       "    </tr>\n",
       "    <tr>\n",
       "      <th>4</th>\n",
       "      <td>1,4</td>\n",
       "      <td>2,64</td>\n",
       "    </tr>\n",
       "    <tr>\n",
       "      <th>5</th>\n",
       "      <td>1,5</td>\n",
       "      <td>2,83</td>\n",
       "    </tr>\n",
       "    <tr>\n",
       "      <th>6</th>\n",
       "      <td>1,6</td>\n",
       "      <td>3,03</td>\n",
       "    </tr>\n",
       "    <tr>\n",
       "      <th>7</th>\n",
       "      <td>1,7</td>\n",
       "      <td>3,25</td>\n",
       "    </tr>\n",
       "    <tr>\n",
       "      <th>8</th>\n",
       "      <td>1,8</td>\n",
       "      <td>3,48</td>\n",
       "    </tr>\n",
       "    <tr>\n",
       "      <th>9</th>\n",
       "      <td>1,9</td>\n",
       "      <td>3,73</td>\n",
       "    </tr>\n",
       "    <tr>\n",
       "      <th>10</th>\n",
       "      <td>2,0</td>\n",
       "      <td>4,00</td>\n",
       "    </tr>\n",
       "  </tbody>\n",
       "</table>\n",
       "</div>"
      ],
      "text/plain": [
       "          Produção Emissão de dióxido de carbono\n",
       "0   (em toneladas)  (em partes por milhão - ppm)\n",
       "1              1,1                          2,14\n",
       "2              1,2                          2,30\n",
       "3              1,3                          2,46\n",
       "4              1,4                          2,64\n",
       "5              1,5                          2,83\n",
       "6              1,6                          3,03\n",
       "7              1,7                          3,25\n",
       "8              1,8                          3,48\n",
       "9              1,9                          3,73\n",
       "10             2,0                          4,00"
      ]
     },
     "metadata": {},
     "output_type": "display_data"
    }
   ],
   "source": [
    "npaginas=2,3,4\n",
    "# armazenando a tabela em um pdf de uma determinada pagina na variavel \"tabelas\"\n",
    "tabelas=tabula.read_pdf('estatistica_enem.pdf', pages='2',multiple_tables=True, stream=True)\n",
    "print(len(tabelas))\n",
    "# o lattice=True mostra\n",
    "#[Empty DataFrame\n",
    "# Columns: [1]\n",
    "# Index: []]\n",
    "\n",
    "display(tabelas)\n",
    "\n",
    "# Imprimindo a tabela de uma forma mais limpa9\n",
    "for tabela in tabelas:\n",
    "    display(tabela)"
   ]
  },
  {
   "cell_type": "code",
   "execution_count": 13,
   "id": "70551db1",
   "metadata": {},
   "outputs": [],
   "source": [
    "#Convertendo arquivo .pdf para excel\n",
    "tabula.convert_into(\"estatistica_enem.pdf\", \"excel.csv\", output_format=\"csv\", pages='18')"
   ]
  },
  {
   "cell_type": "code",
   "execution_count": 1,
   "id": "fd1af636",
   "metadata": {},
   "outputs": [],
   "source": [
    "#extraindo todo o texto do pdf com a biblioteca pdfminer\n",
    "#from pdfminer.high_level import extract_text\n",
    "#text = extract_text(\"estatistica_enem.pdf\")\n",
    "#print(text)"
   ]
  },
  {
   "cell_type": "code",
   "execution_count": 70,
   "id": "60be8829",
   "metadata": {
    "scrolled": true
   },
   "outputs": [],
   "source": [
    "#coloquei o encoding=\"utf-8\" pois esse cvs vem com uma codificação diferente e da erro no pandas \n",
    "#O UTF-8 é uma das codificações mais usadas, e o Python geralmente o usa por padrão. \n",
    "#UTF significa “Unicode Transformation Format”, e o '8' significa que os valores de 8 bits são usados na codificação. \n",
    "\n",
    "ler=pd.read_csv('excel.csv',encoding=\"utf-8\")\n",
    "ler.to_excel('excel.xlsx', index=None,header=True)"
   ]
  },
  {
   "cell_type": "code",
   "execution_count": 87,
   "id": "3359c6e7",
   "metadata": {},
   "outputs": [
    {
     "data": {
      "text/html": [
       "<div>\n",
       "<style scoped>\n",
       "    .dataframe tbody tr th:only-of-type {\n",
       "        vertical-align: middle;\n",
       "    }\n",
       "\n",
       "    .dataframe tbody tr th {\n",
       "        vertical-align: top;\n",
       "    }\n",
       "\n",
       "    .dataframe thead th {\n",
       "        text-align: right;\n",
       "    }\n",
       "</style>\n",
       "<table border=\"1\" class=\"dataframe\">\n",
       "  <thead>\n",
       "    <tr style=\"text-align: right;\">\n",
       "      <th></th>\n",
       "      <th>Candidato</th>\n",
       "      <th>Quimica</th>\n",
       "      <th>Fisica</th>\n",
       "    </tr>\n",
       "  </thead>\n",
       "  <tbody>\n",
       "    <tr>\n",
       "      <th>0</th>\n",
       "      <td>I</td>\n",
       "      <td>20</td>\n",
       "      <td>23</td>\n",
       "    </tr>\n",
       "    <tr>\n",
       "      <th>1</th>\n",
       "      <td>II</td>\n",
       "      <td>x</td>\n",
       "      <td>25</td>\n",
       "    </tr>\n",
       "    <tr>\n",
       "      <th>2</th>\n",
       "      <td>III</td>\n",
       "      <td>21</td>\n",
       "      <td>18</td>\n",
       "    </tr>\n",
       "  </tbody>\n",
       "</table>\n",
       "</div>"
      ],
      "text/plain": [
       "  Candidato Quimica  Fisica\n",
       "0         I      20      23\n",
       "1        II       x      25\n",
       "2       III      21      18"
      ]
     },
     "execution_count": 87,
     "metadata": {},
     "output_type": "execute_result"
    }
   ],
   "source": [
    "#Manipulando arquivos excel\n",
    "tabela_excel =pd.read_excel('excel.xlsx')\n",
    "#display(tabela_excel)\n",
    "\n",
    "#pd.read_excel('exemplo.xlsx', index_col=0,dtype={'Pais': str, 'Ultima atividade': float}) \n",
    "tabela_excel"
   ]
  },
  {
   "cell_type": "code",
   "execution_count": 88,
   "id": "07c0243b",
   "metadata": {
    "scrolled": true
   },
   "outputs": [
    {
     "data": {
      "text/html": [
       "<div>\n",
       "<style scoped>\n",
       "    .dataframe tbody tr th:only-of-type {\n",
       "        vertical-align: middle;\n",
       "    }\n",
       "\n",
       "    .dataframe tbody tr th {\n",
       "        vertical-align: top;\n",
       "    }\n",
       "\n",
       "    .dataframe thead th {\n",
       "        text-align: right;\n",
       "    }\n",
       "</style>\n",
       "<table border=\"1\" class=\"dataframe\">\n",
       "  <thead>\n",
       "    <tr style=\"text-align: right;\">\n",
       "      <th></th>\n",
       "      <th>Unnamed: 0</th>\n",
       "      <th>Candidato</th>\n",
       "      <th>Quimica</th>\n",
       "      <th>Fisica</th>\n",
       "    </tr>\n",
       "  </thead>\n",
       "  <tbody>\n",
       "    <tr>\n",
       "      <th>0</th>\n",
       "      <td>0</td>\n",
       "      <td>I</td>\n",
       "      <td>20</td>\n",
       "      <td>23</td>\n",
       "    </tr>\n",
       "    <tr>\n",
       "      <th>1</th>\n",
       "      <td>1</td>\n",
       "      <td>II</td>\n",
       "      <td>20</td>\n",
       "      <td>25</td>\n",
       "    </tr>\n",
       "    <tr>\n",
       "      <th>2</th>\n",
       "      <td>2</td>\n",
       "      <td>III</td>\n",
       "      <td>21</td>\n",
       "      <td>18</td>\n",
       "    </tr>\n",
       "  </tbody>\n",
       "</table>\n",
       "</div>"
      ],
      "text/plain": [
       "   Unnamed: 0 Candidato  Quimica  Fisica\n",
       "0           0         I       20      23\n",
       "1           1        II       20      25\n",
       "2           2       III       21      18"
      ]
     },
     "metadata": {},
     "output_type": "display_data"
    }
   ],
   "source": [
    "tabela_excel.loc[tabela_excel['Fisica']==25,\"Quimica\"]= 20\n",
    "#[linha,coluna]\n",
    "# as linhas onde a coluna Cia Aérea for igual a Gol , o preço vai mudar para R$ 200\n",
    "\n",
    "tabela_excel.to_excel('table2.xlsx')\n",
    "# mudando o nome crio outro arquivo ao inves de atualizar o mesmo\n",
    "\n",
    "Outro = pd.read_excel('table2.xlsx')\n",
    "# Index_col tira aquela tabela unnamed \n",
    "display(Outro)"
   ]
  },
  {
   "cell_type": "code",
   "execution_count": 81,
   "id": "8b483d22",
   "metadata": {},
   "outputs": [
    {
     "data": {
      "text/plain": [
       "'De tudo, ao meu amor serei atento\\nAntes, e com tal zelo, e sempre, e tanto\\nQue mesmo em face do maior encanto\\nDele se encante mais meu pensamento.\\n\\nQuero vivê-lo em cada vão momento\\nE em louvor hei de espalhar meu canto\\nE rir meu riso e derramar meu pranto\\nAo seu pesar ou seu contentamento.\\n\\nE assim, quando mais tarde me procure\\nQuem sabe a morte, angústia de quem vive\\nQuem sabe a solidão, fim de quem ama\\n\\nEu possa me dizer do amor (que tive):\\nQue não seja imortal, posto que é chama\\nMas que seja infinito enquanto dure.'"
      ]
     },
     "execution_count": 81,
     "metadata": {},
     "output_type": "execute_result"
    }
   ],
   "source": [
    "#Manipulando documento word existente\n",
    "\n",
    "document=docx.Document(\"Poema.docx\")\n",
    "#lendo o primeiro paragrafo\n",
    "#document.paragraphs[0].text\n",
    "#Lendo uma sequenta de instancia\n",
    "#document.paragraphs[0].runs[0].text[0]"
   ]
  },
  {
   "cell_type": "code",
   "execution_count": 82,
   "id": "3510677f",
   "metadata": {},
   "outputs": [],
   "source": [
    "#Criando um documento.docx\n",
    "\n",
    "documento =Document()\n",
    "\n",
    "#Adicionando cabeçalhos\n",
    "documento.add_heading('Como fazer um pudim', 0)\n",
    "documento.add_heading('Pudim de caramelo', level=1)\n",
    "\n",
    "#Adicionando imagem\n",
    "documento.add_picture(\"pudimdecaramelo.jpg\", width=docx.shared.Inches(6.0),height=docx.shared.Cm(9))\n",
    "\n",
    "#Adicionando paragrafos com estilos variados\n",
    "documento.add_paragraph('Confeitarias Juan', style='Intense Quote')\n",
    "documento.add_paragraph('Ingredientes', style='List Bullet')\n",
    "documento.add_paragraph('1 lata de leite condensado', style='List Number')\n",
    "documento.add_paragraph('1 litro de leite', style='List Number')\n",
    "documento.add_paragraph('4 ovos inteiros', style='List Number')\n",
    "documento.add_paragraph('2 xícaras de chá mal cheias de açúcar (300g)', style='List Number')\n",
    "documento.save(\"Documentei.docx\")"
   ]
  },
  {
   "cell_type": "code",
   "execution_count": 31,
   "id": "fe6699ed",
   "metadata": {},
   "outputs": [
    {
     "name": "stdout",
     "output_type": "stream",
     "text": [
      "Digite seu nomeJuan\n"
     ]
    }
   ],
   "source": [
    "#Cabeçalhos\n",
    "#quanto maior o numero menor a letra\n",
    "doc = docx.Document()\n",
    "nome=input(\"Digite seu nome\")\n",
    "doc.add_heading(nome, 0)\n",
    "doc.add_heading(nome, 1)\n",
    "doc.add_heading(nome, 2)\n",
    "doc.add_heading(nome, 3)\n",
    "doc.add_heading(nome, 4)\n",
    "doc.save(\"Cabeçalhos.docx\")"
   ]
  },
  {
   "cell_type": "code",
   "execution_count": 84,
   "id": "50f1fe9f",
   "metadata": {},
   "outputs": [],
   "source": [
    "# Adicionando quebras de linha e pagina\n",
    "doc = docx.Document()\n",
    "doc.add_paragraph(\"Primeira pagina aqui!\")\n",
    "doc.paragraphs[0].runs[0].add_break(docx.enum.text.WD_BREAK.PAGE)\n",
    "doc.add_paragraph(\"Segunda pagina aqui!\")\n",
    "doc.save(\"DuasPaginas.docx\")"
   ]
  },
  {
   "cell_type": "code",
   "execution_count": 41,
   "id": "d7b66a04",
   "metadata": {},
   "outputs": [],
   "source": [
    "doc = docx.Document()\n",
    "doc.add_picture(\"pudimdecaramelo.jpg\", width=docx.shared.Inches(6.0),height=docx.shared.Cm(9))\n",
    "doc.save(\"imagem.docx\")"
   ]
  }
 ],
 "metadata": {
  "kernelspec": {
   "display_name": "Python 3 (ipykernel)",
   "language": "python",
   "name": "python3"
  },
  "language_info": {
   "codemirror_mode": {
    "name": "ipython",
    "version": 3
   },
   "file_extension": ".py",
   "mimetype": "text/x-python",
   "name": "python",
   "nbconvert_exporter": "python",
   "pygments_lexer": "ipython3",
   "version": "3.9.5"
  }
 },
 "nbformat": 4,
 "nbformat_minor": 5
}
